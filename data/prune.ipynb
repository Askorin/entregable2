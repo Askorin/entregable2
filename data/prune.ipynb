{
 "cells": [
  {
   "cell_type": "code",
   "execution_count": 1,
   "id": "2e8582d1-d6e6-4951-9587-d5f078a2c1e1",
   "metadata": {},
   "outputs": [
    {
     "name": "stderr",
     "output_type": "stream",
     "text": [
      "/home/antonioskorin/.local/lib/python3.11/site-packages/pandas/core/arrays/masked.py:60: UserWarning: Pandas requires version '1.3.6' or newer of 'bottleneck' (version '1.3.5' currently installed).\n",
      "  from pandas.core import (\n"
     ]
    }
   ],
   "source": [
    "import pandas as pd\n",
    "import numpy as np\n",
    "import random as rd\n",
    "import string as st\n",
    "import matplotlib.pyplot as plt\n",
    "from scipy.stats import rv_histogram\n",
    "from scipy.stats import gaussian_kde\n",
    "import seaborn as sns"
   ]
  },
  {
   "cell_type": "markdown",
   "id": "6e9574ac-9594-4c62-bc74-3b6a597882e2",
   "metadata": {},
   "source": [
    "# Elementos Duplicados"
   ]
  },
  {
   "cell_type": "code",
   "execution_count": 2,
   "id": "e1cbae6d-5df4-4e7d-8eb0-f6e8a00684f6",
   "metadata": {},
   "outputs": [
    {
     "name": "stdout",
     "output_type": "stream",
     "text": [
      "  university       user_id      user_name  number_tweets  friends_count  \\\n",
      "0    pucv_cl  7.585618e+17  SantillanaLAB           2293           1040   \n",
      "1    pucv_cl  4.149421e+08  rodcontrabajo             20            154   \n",
      "2    pucv_cl  6.821312e+07         ntejos            314            456   \n",
      "3    pucv_cl  1.187383e+08        edu_hhs          13611           2650   \n",
      "4    pucv_cl  1.260729e+18  DatosLab_UPLA              0            173   \n",
      "\n",
      "   followers_count                      created_at  \n",
      "0             2528  Thu Jul 28 07:16:49 +0000 2016  \n",
      "1               53  Thu Nov 17 17:57:02 +0000 2011  \n",
      "2              183  Sun Aug 23 19:14:41 +0000 2009  \n",
      "3             1313  Mon Mar 01 16:15:26 +0000 2010  \n",
      "4                4  Thu May 14 01:02:38 +0000 2020  \n",
      "Row count: 21070\n",
      "\n",
      "\n",
      "  university              user_id      user_name  number_tweets  \\\n",
      "0    pucv_cl   758561835897479040  SantillanaLAB           2293   \n",
      "1    pucv_cl            414942137  rodcontrabajo             20   \n",
      "2    pucv_cl             68213121         ntejos            314   \n",
      "3    pucv_cl            118738304        edu_hhs          13611   \n",
      "4    pucv_cl  1260728998226800128  DatosLab_UPLA              0   \n",
      "\n",
      "   friends_count  followers_count                      created_at  \n",
      "0           1040             2528  Thu Jul 28 07:16:49 +0000 2016  \n",
      "1            154               53  Thu Nov 17 17:57:02 +0000 2011  \n",
      "2            456              183  Sun Aug 23 19:14:41 +0000 2009  \n",
      "3           2650             1313  Mon Mar 01 16:15:26 +0000 2010  \n",
      "4            173                4  Thu May 14 01:02:38 +0000 2020  \n",
      "Row count: 21070\n"
     ]
    }
   ],
   "source": [
    "df = pd.read_csv(\"universities_followers.csv\")\n",
    "print(df.head())\n",
    "print(f\"Row count: {len(df)}\\n\\n\")\n",
    "\n",
    "# Convertimos desde notación científica\n",
    "df[\"user_id\"] = df[\"user_id\"].astype(np.int64)\n",
    "print(df.head())\n",
    "print(f\"Row count: {len(df)}\")\n",
    "df.to_csv(\"universities_followers_int64.csv\", index = False)\n",
    "\n",
    "\n",
    "df = pd.read_csv(\"universities_followers_int64.csv\")"
   ]
  },
  {
   "cell_type": "code",
   "execution_count": 3,
   "id": "c5af7db5-9ef3-4dde-b349-bb86a20a4b0f",
   "metadata": {},
   "outputs": [
    {
     "name": "stdout",
     "output_type": "stream",
     "text": [
      "  university              user_id      user_name  number_tweets  \\\n",
      "0    pucv_cl   758561835897479040  SantillanaLAB           2293   \n",
      "1    pucv_cl            414942137  rodcontrabajo             20   \n",
      "2    pucv_cl             68213121         ntejos            314   \n",
      "3    pucv_cl            118738304        edu_hhs          13611   \n",
      "4    pucv_cl  1260728998226800128  DatosLab_UPLA              0   \n",
      "\n",
      "   friends_count  followers_count                      created_at  \n",
      "0           1040             2528  Thu Jul 28 07:16:49 +0000 2016  \n",
      "1            154               53  Thu Nov 17 17:57:02 +0000 2011  \n",
      "2            456              183  Sun Aug 23 19:14:41 +0000 2009  \n",
      "3           2650             1313  Mon Mar 01 16:15:26 +0000 2010  \n",
      "4            173                4  Thu May 14 01:02:38 +0000 2020  \n",
      "Row count: 21056\n"
     ]
    }
   ],
   "source": [
    "df_pruned = df.drop_duplicates()\n",
    "print(df_pruned.head())\n",
    "print(f\"Row count: {len(df_pruned)}\")"
   ]
  },
  {
   "cell_type": "code",
   "execution_count": 4,
   "id": "444b8211-5404-4b4d-a80c-535b4254eaca",
   "metadata": {},
   "outputs": [
    {
     "name": "stdout",
     "output_type": "stream",
     "text": [
      "Filas donde hay duplicados de id: \n",
      "Index([11071, 11075, 11081, 11083, 11087, 11091, 11093, 11104, 11108, 11124,\n",
      "       ...\n",
      "       20968, 20972, 20975, 20998, 21003, 21010, 21023, 21029, 21034, 21061],\n",
      "      dtype='int64', length=1148)\n",
      "Filas donde hay duplicados de user_name: \n",
      "Index([11071, 11075, 11081, 11083, 11087, 11091, 11093, 11104, 11108, 11124,\n",
      "       ...\n",
      "       20968, 20972, 20975, 20998, 21003, 21010, 21023, 21029, 21034, 21061],\n",
      "      dtype='int64', length=1148)\n",
      "\n",
      "\n",
      "Cuentas de duplicados en total: \n",
      "user_id\n",
      "False    19908\n",
      "True      1148\n",
      "Name: count, dtype: int64\n",
      "user_name\n",
      "False    19908\n",
      "True      1148\n",
      "Name: count, dtype: int64\n"
     ]
    }
   ],
   "source": [
    "duplicate_ids = df_pruned[\"user_id\"].duplicated()\n",
    "duplicate_usernames = df_pruned[\"user_name\"].duplicated()\n",
    "\n",
    "print(\"Filas donde hay duplicados de id: \")\n",
    "print(duplicate_ids[duplicate_ids].index)\n",
    "print(\"Filas donde hay duplicados de user_name: \")\n",
    "print(duplicate_usernames[duplicate_usernames].index)\n",
    "\n",
    "\n",
    "print(\"\\n\\nCuentas de duplicados en total: \")\n",
    "dup_id_count = duplicate_ids.value_counts()\n",
    "dup_usernames_count = duplicate_usernames.value_counts()\n",
    "print(dup_id_count)\n",
    "print(dup_usernames_count)\n",
    "\n"
   ]
  },
  {
   "cell_type": "code",
   "execution_count": 5,
   "id": "f3232563-2435-4229-a33f-b6f2af448995",
   "metadata": {},
   "outputs": [
    {
     "name": "stdout",
     "output_type": "stream",
     "text": [
      "Cantidad de usuarios que se repiten: \n",
      "838\n"
     ]
    }
   ],
   "source": [
    "dups = set()\n",
    "for idx in duplicate_usernames[duplicate_usernames].index:\n",
    "    username = df_pruned[\"user_name\"][idx]\n",
    "    dups.add(username)\n",
    "print(\"Cantidad de usuarios que se repiten: \")\n",
    "print(len(dups))"
   ]
  },
  {
   "cell_type": "code",
   "execution_count": 6,
   "id": "d0ec4737-e259-414c-b43e-143092243017",
   "metadata": {},
   "outputs": [
    {
     "name": "stdout",
     "output_type": "stream",
     "text": [
      "  university              user_id        user_name  number_tweets  \\\n",
      "0  UFrontera  1234648163694380032           CrspJv             30   \n",
      "1      usach           1927636664  HombredeNoticia          20863   \n",
      "2  UFrontera   713037885272776960    KrishMicrobio             28   \n",
      "3    pucv_cl            368609388         KroRapel            249   \n",
      "4    pucv_cl           3304979885  RodrigoVilche12             25   \n",
      "\n",
      "   friends_count  followers_count                      created_at  \n",
      "0            107                2  Tue Mar 03 01:14:09 +0000 2020  \n",
      "1           1917              957  Wed Oct 02 17:43:58 +0000 2013  \n",
      "2            210               35  Thu Mar 24 16:20:54 +0000 2016  \n",
      "3            127               21  Mon Sep 05 22:49:11 +0000 2011  \n",
      "4             51                8  Sun May 31 19:58:21 +0000 2015  \n"
     ]
    }
   ],
   "source": [
    "df_pruned = df.drop_duplicates(subset=[\"user_id\", \"user_name\"], keep=\"first\")\n",
    "# shuffleamos el dataset por si acaso\n",
    "df_final = df_pruned.sample(frac=1).reset_index(drop=True)\n",
    "print(df_final.head())\n",
    "\n",
    "df_final.to_csv(\"universities_followers_no_dups.csv\", index = False)"
   ]
  },
  {
   "cell_type": "markdown",
   "id": "0658b267-7c8f-41e2-a65f-b097c0c2f66f",
   "metadata": {},
   "source": [
    "# Elementos Aleatorios"
   ]
  },
  {
   "cell_type": "code",
   "execution_count": 7,
   "id": "239e19af-f039-4699-bebd-196557fbe6cb",
   "metadata": {},
   "outputs": [],
   "source": [
    "def random_username_forbidden(usr: str, forbidden: set) -> str:\n",
    "    temp = usr\n",
    "    #para debugear\n",
    "    i = 0\n",
    "    while temp in forbidden:\n",
    "        if i > 0: \n",
    "            print(f\"{temp}, generated from {usr} is Forbidden, trying again.\")\n",
    "        temp = random_username(usr)\n",
    "    return temp\n",
    "\n",
    "\n",
    "\n",
    "# Inspirado en distancia de Levenshtein, código original.\n",
    "# Un usuario de twitter solo tiene letras, números, underscores, un máximo de 15 caracteres y un mínimo de 4.\n",
    "def random_username(usr: str) -> str:\n",
    "    n = len(usr)\n",
    "    # Cuantos caracteres cambiar de la palabra\n",
    "    n_edits = rd.randint(1, n)\n",
    "    # Las operaciones que vamos a realizar, agrego letras ABC para sortear.\n",
    "    ops = rd.choices([\"C-sub\", \"B-in\", \"A-del\"], k=n_edits)\n",
    "    ops.sort()\n",
    "    #print(f\"Operaciones a realizar: {ops}\")\n",
    "    # Caracteres válidos para usuaro de twitter\n",
    "    valid_chars = st.ascii_letters + st.digits + \"_\"\n",
    "\n",
    "    # Haremos primero los replacements, después las inserciones y por último los delete.\n",
    "    while ops:\n",
    "        op = ops.pop()\n",
    "        if op == \"B-in\":\n",
    "            # Si insertar un caracter nos dejara sobre 15, cambiamos la operación una de las dos restantes.\n",
    "            if len(usr) >= 15:\n",
    "                op = rd.choice([\"A-del\", \"C-sub\"])\n",
    "                ops.append(op)\n",
    "                ops.sort()\n",
    "                #print(\"Too long, making new choice.\")\n",
    "                continue\n",
    "            else:\n",
    "                # Podemos insertar donde sea, incluso en len(usr)\n",
    "                idx = rd.randint(0, len(usr))\n",
    "                ch = rd.choice(valid_chars)\n",
    "                usr = usr[:idx] + ch + usr[idx:]\n",
    "                #print(f\"Insert '{ch}' at idx {idx}: \" + usr)\n",
    "        \n",
    "        elif op == \"A-del\":\n",
    "            # Si remover un caracter nos dejara con menos de 4, cambiamos la operación a una de las dos restantes.\n",
    "            if len(usr) <= 4:\n",
    "                op = op = rd.choice([\"B-in\", \"C-sub\"])\n",
    "                ops.append(op)\n",
    "                ops.sort()\n",
    "                #print(\"Too short, making new choice.\")\n",
    "                continue\n",
    "            else:\n",
    "                idx = rd.randint(0, len(usr) - 1)\n",
    "                usr = usr[:idx] + usr[idx + 1:]\n",
    "                #print(f\"Deleting idx {idx}: \" + usr)\n",
    "\n",
    "        elif op == \"C-sub\":\n",
    "            idx = rd.randint(0, len(usr) - 1)\n",
    "            ch = rd.choice(valid_chars)\n",
    "            usr = usr[:idx] + ch + usr[idx + 1:]\n",
    "            #print(f\"Replacing idx {idx} for '{ch}': \" + usr)        \n",
    "    return usr\n"
   ]
  },
  {
   "cell_type": "code",
   "execution_count": 8,
   "id": "aa958a81-5c2f-45f1-8c24-d3b8efd5359f",
   "metadata": {},
   "outputs": [
    {
     "name": "stdout",
     "output_type": "stream",
     "text": [
      "  university              user_id       user_name  number_tweets  \\\n",
      "0  UFrontera  1234648163694380032         rsMKpJv             30   \n",
      "1      usach           1927636664  ombredrNoticia          20863   \n",
      "2  UFrontera   713037885272776960     k6KrisMiEoo             28   \n",
      "3    pucv_cl            368609388        QrREp9el            249   \n",
      "4    pucv_cl           3304979885    JMdibelchj12             25   \n",
      "\n",
      "   friends_count  followers_count                      created_at  \n",
      "0            107                2  Tue Mar 03 01:14:09 +0000 2020  \n",
      "1           1917              957  Wed Oct 02 17:43:58 +0000 2013  \n",
      "2            210               35  Thu Mar 24 16:20:54 +0000 2016  \n",
      "3            127               21  Mon Sep 05 22:49:11 +0000 2011  \n",
      "4             51                8  Sun May 31 19:58:21 +0000 2015  \n"
     ]
    }
   ],
   "source": [
    "# Randomizamos usernames\n",
    "random_usr_col = df_final[\"user_name\"].apply(random_username_forbidden, forbidden=set(df_final[\"user_name\"].unique()))\n",
    "randomized_df = df_final.copy(deep=True)\n",
    "randomized_df[\"user_name\"] = random_usr_col\n",
    "print(randomized_df.head())"
   ]
  },
  {
   "cell_type": "code",
   "execution_count": 9,
   "id": "1cef3dd5-234d-4317-bd6d-36e1a3d9382c",
   "metadata": {},
   "outputs": [
    {
     "name": "stdout",
     "output_type": "stream",
     "text": [
      "19908\n",
      "  university              user_id       user_name  number_tweets  \\\n",
      "0  UFrontera     1732490562035142         rsMKpJv             30   \n",
      "1      usach  1180791938325468928  ombredrNoticia          20863   \n",
      "2  UFrontera   911825445201056384     k6KrisMiEoo             28   \n",
      "3    pucv_cl    10437195470316396        QrREp9el            249   \n",
      "4    pucv_cl     3856187579930749    JMdibelchj12             25   \n",
      "\n",
      "   friends_count  followers_count                      created_at  \n",
      "0            107                2  Tue Mar 03 01:14:09 +0000 2020  \n",
      "1           1917              957  Wed Oct 02 17:43:58 +0000 2013  \n",
      "2            210               35  Thu Mar 24 16:20:54 +0000 2016  \n",
      "3            127               21  Mon Sep 05 22:49:11 +0000 2011  \n",
      "4             51                8  Sun May 31 19:58:21 +0000 2015  \n"
     ]
    }
   ],
   "source": [
    "user_ids = randomized_df[\"user_id\"].values\n",
    "user_ids_set = set(randomized_df[\"user_id\"].unique())\n",
    "\n",
    "hist, bin_edges = np.histogram(user_ids, bins=100, density=True)\n",
    "hist_dist = rv_histogram((hist, bin_edges))\n",
    "\n",
    "random_ids = list()\n",
    "# Esto es medio desagradable\n",
    "for i in range(randomized_df.shape[0]):\n",
    "    random_id = user_ids[0]\n",
    "    while random_id in user_ids_set:\n",
    "        random_id = int(round(hist_dist.rvs(size=1)[0]))\n",
    "    random_ids.append(random_id)\n",
    "    \n",
    "print(len(random_ids))\n",
    "randomized_df[\"user_id\"] = pd.Series(np.asarray(random_ids).astype(int))\n",
    "print(randomized_df.head())"
   ]
  },
  {
   "cell_type": "code",
   "execution_count": 10,
   "id": "21d14491-dc77-4fc2-b217-461142687f69",
   "metadata": {},
   "outputs": [],
   "source": [
    "# Shuffleamos por si acaso (???) \n",
    "randomized_df = randomized_df.sample(frac=1).reset_index(drop=True)\n",
    "randomized_df.to_csv(\"universities_followers_no_dups_random.csv\", index = False)"
   ]
  }
 ],
 "metadata": {
  "kernelspec": {
   "display_name": "Python 3 (ipykernel)",
   "language": "python",
   "name": "python3"
  },
  "language_info": {
   "codemirror_mode": {
    "name": "ipython",
    "version": 3
   },
   "file_extension": ".py",
   "mimetype": "text/x-python",
   "name": "python",
   "nbconvert_exporter": "python",
   "pygments_lexer": "ipython3",
   "version": "3.11.4"
  }
 },
 "nbformat": 4,
 "nbformat_minor": 5
}
