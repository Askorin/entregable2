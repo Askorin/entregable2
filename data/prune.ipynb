{
 "cells": [
  {
   "cell_type": "code",
   "execution_count": 1,
   "id": "2e8582d1-d6e6-4951-9587-d5f078a2c1e1",
   "metadata": {},
   "outputs": [
    {
     "name": "stderr",
     "output_type": "stream",
     "text": [
      "/home/antonioskorin/.local/lib/python3.11/site-packages/pandas/core/arrays/masked.py:60: UserWarning: Pandas requires version '1.3.6' or newer of 'bottleneck' (version '1.3.5' currently installed).\n",
      "  from pandas.core import (\n"
     ]
    }
   ],
   "source": [
    "import pandas as pd\n",
    "import numpy as np"
   ]
  },
  {
   "cell_type": "code",
   "execution_count": 2,
   "id": "e1cbae6d-5df4-4e7d-8eb0-f6e8a00684f6",
   "metadata": {},
   "outputs": [
    {
     "name": "stdout",
     "output_type": "stream",
     "text": [
      "  university       user_id      user_name  number_tweets  friends_count  \\\n",
      "0    pucv_cl  7.585618e+17  SantillanaLAB           2293           1040   \n",
      "1    pucv_cl  4.149421e+08  rodcontrabajo             20            154   \n",
      "2    pucv_cl  6.821312e+07         ntejos            314            456   \n",
      "3    pucv_cl  1.187383e+08        edu_hhs          13611           2650   \n",
      "4    pucv_cl  1.260729e+18  DatosLab_UPLA              0            173   \n",
      "\n",
      "   followers_count                      created_at  \n",
      "0             2528  Thu Jul 28 07:16:49 +0000 2016  \n",
      "1               53  Thu Nov 17 17:57:02 +0000 2011  \n",
      "2              183  Sun Aug 23 19:14:41 +0000 2009  \n",
      "3             1313  Mon Mar 01 16:15:26 +0000 2010  \n",
      "4                4  Thu May 14 01:02:38 +0000 2020  \n",
      "Row count: 21070\n",
      "\n",
      "\n",
      "  university              user_id      user_name  number_tweets  \\\n",
      "0    pucv_cl   758561835897479040  SantillanaLAB           2293   \n",
      "1    pucv_cl            414942137  rodcontrabajo             20   \n",
      "2    pucv_cl             68213121         ntejos            314   \n",
      "3    pucv_cl            118738304        edu_hhs          13611   \n",
      "4    pucv_cl  1260728998226800128  DatosLab_UPLA              0   \n",
      "\n",
      "   friends_count  followers_count                      created_at  \n",
      "0           1040             2528  Thu Jul 28 07:16:49 +0000 2016  \n",
      "1            154               53  Thu Nov 17 17:57:02 +0000 2011  \n",
      "2            456              183  Sun Aug 23 19:14:41 +0000 2009  \n",
      "3           2650             1313  Mon Mar 01 16:15:26 +0000 2010  \n",
      "4            173                4  Thu May 14 01:02:38 +0000 2020  \n",
      "Row count: 21070\n"
     ]
    }
   ],
   "source": [
    "df = pd.read_csv(\"universities_followers.csv\")\n",
    "print(df.head())\n",
    "print(f\"Row count: {len(df)}\\n\\n\")\n",
    "\n",
    "# Convertimos desde notación científica\n",
    "df[\"user_id\"] = df[\"user_id\"].astype(np.int64)\n",
    "print(df.head())\n",
    "print(f\"Row count: {len(df)}\")\n",
    "df.to_csv(\"universities_followers_int64.csv\", index = False)\n",
    "\n",
    "\n",
    "df = pd.read_csv(\"universities_followers_int64.csv\")"
   ]
  },
  {
   "cell_type": "code",
   "execution_count": 3,
   "id": "c5af7db5-9ef3-4dde-b349-bb86a20a4b0f",
   "metadata": {},
   "outputs": [
    {
     "name": "stdout",
     "output_type": "stream",
     "text": [
      "  university              user_id      user_name  number_tweets  \\\n",
      "0    pucv_cl   758561835897479040  SantillanaLAB           2293   \n",
      "1    pucv_cl            414942137  rodcontrabajo             20   \n",
      "2    pucv_cl             68213121         ntejos            314   \n",
      "3    pucv_cl            118738304        edu_hhs          13611   \n",
      "4    pucv_cl  1260728998226800128  DatosLab_UPLA              0   \n",
      "\n",
      "   friends_count  followers_count                      created_at  \n",
      "0           1040             2528  Thu Jul 28 07:16:49 +0000 2016  \n",
      "1            154               53  Thu Nov 17 17:57:02 +0000 2011  \n",
      "2            456              183  Sun Aug 23 19:14:41 +0000 2009  \n",
      "3           2650             1313  Mon Mar 01 16:15:26 +0000 2010  \n",
      "4            173                4  Thu May 14 01:02:38 +0000 2020  \n",
      "Row count: 21056\n"
     ]
    }
   ],
   "source": [
    "df_pruned = df.drop_duplicates()\n",
    "print(df_pruned.head())\n",
    "print(f\"Row count: {len(df_pruned)}\")"
   ]
  },
  {
   "cell_type": "code",
   "execution_count": 4,
   "id": "444b8211-5404-4b4d-a80c-535b4254eaca",
   "metadata": {},
   "outputs": [
    {
     "name": "stdout",
     "output_type": "stream",
     "text": [
      "Filas donde hay duplicados de id: \n",
      "Index([11071, 11075, 11081, 11083, 11087, 11091, 11093, 11104, 11108, 11124,\n",
      "       ...\n",
      "       20968, 20972, 20975, 20998, 21003, 21010, 21023, 21029, 21034, 21061],\n",
      "      dtype='int64', length=1148)\n",
      "Filas donde hay duplicados de user_name: \n",
      "Index([11071, 11075, 11081, 11083, 11087, 11091, 11093, 11104, 11108, 11124,\n",
      "       ...\n",
      "       20968, 20972, 20975, 20998, 21003, 21010, 21023, 21029, 21034, 21061],\n",
      "      dtype='int64', length=1148)\n",
      "\n",
      "\n",
      "Cuentas de duplicados en total: \n",
      "user_id\n",
      "False    19908\n",
      "True      1148\n",
      "Name: count, dtype: int64\n",
      "user_name\n",
      "False    19908\n",
      "True      1148\n",
      "Name: count, dtype: int64\n"
     ]
    }
   ],
   "source": [
    "duplicate_ids = df_pruned[\"user_id\"].duplicated()\n",
    "duplicate_usernames = df_pruned[\"user_name\"].duplicated()\n",
    "\n",
    "print(\"Filas donde hay duplicados de id: \")\n",
    "print(duplicate_ids[duplicate_ids].index)\n",
    "print(\"Filas donde hay duplicados de user_name: \")\n",
    "print(duplicate_usernames[duplicate_usernames].index)\n",
    "\n",
    "\n",
    "print(\"\\n\\nCuentas de duplicados en total: \")\n",
    "dup_id_count = duplicate_ids.value_counts()\n",
    "dup_usernames_count = duplicate_usernames.value_counts()\n",
    "print(dup_id_count)\n",
    "print(dup_usernames_count)\n",
    "\n"
   ]
  },
  {
   "cell_type": "code",
   "execution_count": 5,
   "id": "f3232563-2435-4229-a33f-b6f2af448995",
   "metadata": {},
   "outputs": [
    {
     "name": "stdout",
     "output_type": "stream",
     "text": [
      "Cantidad de usuarios que se repiten: \n",
      "838\n"
     ]
    }
   ],
   "source": [
    "dups = set()\n",
    "for idx in duplicate_usernames[duplicate_usernames].index:\n",
    "    username = df_pruned[\"user_name\"][idx]\n",
    "    dups.add(username)\n",
    "print(\"Cantidad de usuarios que se repiten: \")\n",
    "print(len(dups))"
   ]
  },
  {
   "cell_type": "code",
   "execution_count": 6,
   "id": "d0ec4737-e259-414c-b43e-143092243017",
   "metadata": {},
   "outputs": [
    {
     "name": "stdout",
     "output_type": "stream",
     "text": [
      "  university              user_id        user_name  number_tweets  \\\n",
      "0    pucv_cl            612060532         SnzEliza              4   \n",
      "1    pucv_cl           2659982316     Encantos_Qta             49   \n",
      "2     uchile  1266254819074789888  AnaGmezVallejo1              0   \n",
      "3    pucv_cl            963577194  JoseArayaMallea            440   \n",
      "4    pucv_cl            512176176  QuintaCondones1              0   \n",
      "\n",
      "   friends_count  followers_count                      created_at  \n",
      "0            279               12  Mon Jun 18 22:32:02 +0000 2012  \n",
      "1           1924              343  Sat Jul 19 17:22:26 +0000 2014  \n",
      "2             11                0  Fri May 29 06:27:45 +0000 2020  \n",
      "3           2034              135  Thu Nov 22 04:04:03 +0000 2012  \n",
      "4             12                2  Fri Mar 02 16:50:14 +0000 2012  \n"
     ]
    }
   ],
   "source": [
    "df_pruned = df.drop_duplicates(subset=[\"user_id\", \"user_name\"], keep=\"first\")\n",
    "# shuffleamos el dataset por si acaso\n",
    "df_final = df_pruned.sample(frac=1).reset_index(drop=True)\n",
    "print(df_final.head())\n",
    "\n",
    "df_final.to_csv(\"universities_followers_no_dups.csv\", index = False)"
   ]
  },
  {
   "cell_type": "code",
   "execution_count": null,
   "id": "3b3404c5-99f8-429b-b983-6e848468d480",
   "metadata": {},
   "outputs": [],
   "source": []
  }
 ],
 "metadata": {
  "kernelspec": {
   "display_name": "Python 3 (ipykernel)",
   "language": "python",
   "name": "python3"
  },
  "language_info": {
   "codemirror_mode": {
    "name": "ipython",
    "version": 3
   },
   "file_extension": ".py",
   "mimetype": "text/x-python",
   "name": "python",
   "nbconvert_exporter": "python",
   "pygments_lexer": "ipython3",
   "version": "3.11.4"
  }
 },
 "nbformat": 4,
 "nbformat_minor": 5
}
